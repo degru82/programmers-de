{
  "nbformat": 4,
  "nbformat_minor": 0,
  "metadata": {
    "colab": {
      "name": "dataengineering_w2_mau.ipynb",
      "provenance": [],
      "collapsed_sections": [],
      "authorship_tag": "ABX9TyOBYKYw8xxlpcgKmqBJyI/5",
      "include_colab_link": true
    },
    "kernelspec": {
      "name": "python3",
      "display_name": "Python 3"
    }
  },
  "cells": [
    {
      "cell_type": "markdown",
      "metadata": {
        "id": "view-in-github",
        "colab_type": "text"
      },
      "source": [
        "<a href=\"https://colab.research.google.com/github/degru82/programmers-de/blob/master/dataengineering_w2_mau.ipynb\" target=\"_parent\"><img src=\"https://colab.research.google.com/assets/colab-badge.svg\" alt=\"Open In Colab\"/></a>"
      ]
    },
    {
      "cell_type": "markdown",
      "metadata": {
        "id": "y-LkGhRPe7Im",
        "colab_type": "text"
      },
      "source": [
        "# 프로그래머스 데이터엔지니어링 2주차\n",
        "\n",
        "1. db-conn 함수의 작성\n",
        "1. MAU 계산을 SQL을 사용해서\n",
        "1. MAU 계산을 Pandas를 사용해서\n",
        "\n",
        "----\n",
        "## 1. 먼저 db-conn 함수를 작성한다"
      ]
    },
    {
      "cell_type": "code",
      "metadata": {
        "id": "fSrbFDEje_Hk",
        "colab_type": "code",
        "colab": {
          "base_uri": "https://localhost:8080/",
          "height": 71
        },
        "outputId": "eeb7b29d-c437-463e-ac54-9f390160bcd1"
      },
      "source": [
        "import psycopg2\n",
        "\n",
        "def connect_to_redshift(\n",
        "    user: str, pwd: str,\n",
        "    host: str=\"grepp-data.cduaw970ssvt.ap-northeast-2.redshift.amazonaws.com\",\n",
        "    port: int=5439, dbname: str='dev',\n",
        ")->tuple:\n",
        "    \"\"\"\n",
        "    레드시프트 데이터베이스에 연결하고 정보를 리턴합니다\n",
        "\n",
        "    returns (connection, cursor)\n",
        "\n",
        "    inputs\n",
        "    - user: username\n",
        "    - pwd: password\n",
        "    - host: redshift url (default: grepp-data.blahblah)\n",
        "    - port: port number (default: 5439)\n",
        "    - dbname: database name (default: dev)\n",
        "    \"\"\"\n",
        "\n",
        "    info = \\\n",
        "        f'dbname={dbname} user={user} host={host} password={pwd} port={port}'\n",
        "    conn = psycopg2.connect(info)\n",
        "\n",
        "    return conn, conn.cursor()\n",
        "\n",
        "\n",
        "connect_to_redshift?"
      ],
      "execution_count": 1,
      "outputs": [
        {
          "output_type": "stream",
          "text": [
            "/usr/local/lib/python3.6/dist-packages/psycopg2/__init__.py:144: UserWarning: The psycopg2 wheel package will be renamed from release 2.8; in order to keep installing from binary please use \"pip install psycopg2-binary\" instead. For details see: <http://initd.org/psycopg/docs/install.html#binary-install-from-pypi>.\n",
            "  \"\"\")\n"
          ],
          "name": "stderr"
        }
      ]
    },
    {
      "cell_type": "code",
      "metadata": {
        "id": "QZ62yPu4iu0V",
        "colab_type": "code",
        "colab": {}
      },
      "source": [
        "# 실행환경이 콘솔이었다면, 환경변수에 지정했겠지만,\n",
        "# 주피터 노트북에서 실행할 예정이므로 ID/PWD를 입력받습니다\n",
        "\n",
        "user = input('Type Username: ')\n",
        "pwd = input('Type Password: ')\n",
        "\n",
        "conn, cursor = connect_to_redshift(user, pwd)\n",
        "conn, cursor"
      ],
      "execution_count": null,
      "outputs": []
    },
    {
      "cell_type": "markdown",
      "metadata": {
        "id": "YdMsljylsx7a",
        "colab_type": "text"
      },
      "source": [
        "----\n",
        "## 2. MAU 계산을 SQL을 사용해서"
      ]
    },
    {
      "cell_type": "code",
      "metadata": {
        "id": "zr4z_L5TjN0x",
        "colab_type": "code",
        "colab": {}
      },
      "source": [
        "query = '''\n",
        "SELECT \n",
        "    COUNT(DISTINCT USC.userid)\n",
        "    , EXTRACT(YEAR FROM ST.ts) AS YYYY\n",
        "    , EXTRACT(MONTH FROM ST.ts) AS MM\n",
        "FROM raw_data.user_session_channel USC\n",
        "\n",
        "JOIN raw_data.session_timestamp ST\n",
        "ON USC.sessionid=ST.sessionid\n",
        "\n",
        "GROUP BY YYYY, MM\n",
        "'''\n",
        "\n",
        "cursor.execute(query)\n",
        "result = cursor.fetchall()"
      ],
      "execution_count": 3,
      "outputs": []
    },
    {
      "cell_type": "code",
      "metadata": {
        "id": "6M4iYAQHkXzA",
        "colab_type": "code",
        "colab": {
          "base_uri": "https://localhost:8080/",
          "height": 136
        },
        "outputId": "f2973c06-ec5b-463b-b428-6328f0d04871"
      },
      "source": [
        "for num_users, year, month in result:\n",
        "\n",
        "    print(f'{num_users} MAUs on {year}-{month:02}')"
      ],
      "execution_count": 4,
      "outputs": [
        {
          "output_type": "stream",
          "text": [
            "281 MAUs on 2019-05\n",
            "459 MAUs on 2019-06\n",
            "639 MAUs on 2019-09\n",
            "763 MAUs on 2019-10\n",
            "623 MAUs on 2019-07\n",
            "662 MAUs on 2019-08\n",
            "721 MAUs on 2019-11\n"
          ],
          "name": "stdout"
        }
      ]
    },
    {
      "cell_type": "markdown",
      "metadata": {
        "id": "j7r9Gyr4sEd-",
        "colab_type": "text"
      },
      "source": [
        "----\n",
        "## 3. MAU 계산을 Pandas를 사용해서\n",
        "- 두 개의 테이블을 읽어와서\n",
        "- 합쳐서 하나의 테이블을 만들고 (join)\n",
        "- 연도와 월 정보를 추출해서 새로운 컬럼을 만든 뒤,\n",
        "- 해당 연월에 유니크한 사용자 아이디 개수를 구한다"
      ]
    },
    {
      "cell_type": "code",
      "metadata": {
        "id": "OKkP_Q6gsjxW",
        "colab_type": "code",
        "colab": {
          "base_uri": "https://localhost:8080/",
          "height": 204
        },
        "outputId": "eb732e9d-b0d6-497c-fea9-e9c279c88b70"
      },
      "source": [
        "import pandas.io.sql as sqlio\n",
        "\n",
        "query = \"select * from raw_data.user_session_channel\"\n",
        "df_usc = sqlio.read_sql(query, conn)\n",
        "df_usc.head()\n",
        "\n"
      ],
      "execution_count": 5,
      "outputs": [
        {
          "output_type": "execute_result",
          "data": {
            "text/html": [
              "<div>\n",
              "<style scoped>\n",
              "    .dataframe tbody tr th:only-of-type {\n",
              "        vertical-align: middle;\n",
              "    }\n",
              "\n",
              "    .dataframe tbody tr th {\n",
              "        vertical-align: top;\n",
              "    }\n",
              "\n",
              "    .dataframe thead th {\n",
              "        text-align: right;\n",
              "    }\n",
              "</style>\n",
              "<table border=\"1\" class=\"dataframe\">\n",
              "  <thead>\n",
              "    <tr style=\"text-align: right;\">\n",
              "      <th></th>\n",
              "      <th>userid</th>\n",
              "      <th>sessionid</th>\n",
              "      <th>channel</th>\n",
              "    </tr>\n",
              "  </thead>\n",
              "  <tbody>\n",
              "    <tr>\n",
              "      <th>0</th>\n",
              "      <td>779</td>\n",
              "      <td>7cdace91c487558e27ce54df7cdb299c</td>\n",
              "      <td>Instagram</td>\n",
              "    </tr>\n",
              "    <tr>\n",
              "      <th>1</th>\n",
              "      <td>230</td>\n",
              "      <td>94f192dee566b018e0acf31e1f99a2d9</td>\n",
              "      <td>Naver</td>\n",
              "    </tr>\n",
              "    <tr>\n",
              "      <th>2</th>\n",
              "      <td>369</td>\n",
              "      <td>7ed2d3454c5eea71148b11d0c25104ff</td>\n",
              "      <td>Youtube</td>\n",
              "    </tr>\n",
              "    <tr>\n",
              "      <th>3</th>\n",
              "      <td>248</td>\n",
              "      <td>f1daf122cde863010844459363cd31db</td>\n",
              "      <td>Naver</td>\n",
              "    </tr>\n",
              "    <tr>\n",
              "      <th>4</th>\n",
              "      <td>676</td>\n",
              "      <td>fd0efcca272f704a760c3b61dcc70fd0</td>\n",
              "      <td>Instagram</td>\n",
              "    </tr>\n",
              "  </tbody>\n",
              "</table>\n",
              "</div>"
            ],
            "text/plain": [
              "   userid                         sessionid    channel\n",
              "0     779  7cdace91c487558e27ce54df7cdb299c  Instagram\n",
              "1     230  94f192dee566b018e0acf31e1f99a2d9      Naver\n",
              "2     369  7ed2d3454c5eea71148b11d0c25104ff    Youtube\n",
              "3     248  f1daf122cde863010844459363cd31db      Naver\n",
              "4     676  fd0efcca272f704a760c3b61dcc70fd0  Instagram"
            ]
          },
          "metadata": {
            "tags": []
          },
          "execution_count": 5
        }
      ]
    },
    {
      "cell_type": "code",
      "metadata": {
        "id": "peFcUDnTtwd0",
        "colab_type": "code",
        "colab": {
          "base_uri": "https://localhost:8080/",
          "height": 204
        },
        "outputId": "f4231b8d-37ff-436b-c8d8-a684ba266f4f"
      },
      "source": [
        "query = \"select * from raw_data.session_timestamp\"\n",
        "df_st = sqlio.read_sql(query, conn)\n",
        "df_st.head()"
      ],
      "execution_count": 6,
      "outputs": [
        {
          "output_type": "execute_result",
          "data": {
            "text/html": [
              "<div>\n",
              "<style scoped>\n",
              "    .dataframe tbody tr th:only-of-type {\n",
              "        vertical-align: middle;\n",
              "    }\n",
              "\n",
              "    .dataframe tbody tr th {\n",
              "        vertical-align: top;\n",
              "    }\n",
              "\n",
              "    .dataframe thead th {\n",
              "        text-align: right;\n",
              "    }\n",
              "</style>\n",
              "<table border=\"1\" class=\"dataframe\">\n",
              "  <thead>\n",
              "    <tr style=\"text-align: right;\">\n",
              "      <th></th>\n",
              "      <th>sessionid</th>\n",
              "      <th>ts</th>\n",
              "    </tr>\n",
              "  </thead>\n",
              "  <tbody>\n",
              "    <tr>\n",
              "      <th>0</th>\n",
              "      <td>c41dd99a69df04044aa4e33ece9c9249</td>\n",
              "      <td>2019-05-01 00:35:59.897</td>\n",
              "    </tr>\n",
              "    <tr>\n",
              "      <th>1</th>\n",
              "      <td>fdc0eb412a84fa549afe68373d9087e9</td>\n",
              "      <td>2019-05-01 02:53:48.503</td>\n",
              "    </tr>\n",
              "    <tr>\n",
              "      <th>2</th>\n",
              "      <td>0a54b19a13b6712dc04d1b49215423d8</td>\n",
              "      <td>2019-05-01 12:18:26.637</td>\n",
              "    </tr>\n",
              "    <tr>\n",
              "      <th>3</th>\n",
              "      <td>a914ecef9c12ffdb9bede64bb703d877</td>\n",
              "      <td>2019-05-01 13:41:29.267</td>\n",
              "    </tr>\n",
              "    <tr>\n",
              "      <th>4</th>\n",
              "      <td>05ae14d7ae387b93370d142d82220f1b</td>\n",
              "      <td>2019-05-01 14:17:54.083</td>\n",
              "    </tr>\n",
              "  </tbody>\n",
              "</table>\n",
              "</div>"
            ],
            "text/plain": [
              "                          sessionid                      ts\n",
              "0  c41dd99a69df04044aa4e33ece9c9249 2019-05-01 00:35:59.897\n",
              "1  fdc0eb412a84fa549afe68373d9087e9 2019-05-01 02:53:48.503\n",
              "2  0a54b19a13b6712dc04d1b49215423d8 2019-05-01 12:18:26.637\n",
              "3  a914ecef9c12ffdb9bede64bb703d877 2019-05-01 13:41:29.267\n",
              "4  05ae14d7ae387b93370d142d82220f1b 2019-05-01 14:17:54.083"
            ]
          },
          "metadata": {
            "tags": []
          },
          "execution_count": 6
        }
      ]
    },
    {
      "cell_type": "code",
      "metadata": {
        "id": "NOhIWD7KtzkZ",
        "colab_type": "code",
        "colab": {
          "base_uri": "https://localhost:8080/",
          "height": 204
        },
        "outputId": "82e0e3fb-c32d-45aa-dd4c-900572aaf34a"
      },
      "source": [
        "import pandas as pd\n",
        "\n",
        "df_merged = pd.merge(df_usc, df_st, how='outer', on='sessionid')\n",
        "df_merged.tail()"
      ],
      "execution_count": 7,
      "outputs": [
        {
          "output_type": "execute_result",
          "data": {
            "text/html": [
              "<div>\n",
              "<style scoped>\n",
              "    .dataframe tbody tr th:only-of-type {\n",
              "        vertical-align: middle;\n",
              "    }\n",
              "\n",
              "    .dataframe tbody tr th {\n",
              "        vertical-align: top;\n",
              "    }\n",
              "\n",
              "    .dataframe thead th {\n",
              "        text-align: right;\n",
              "    }\n",
              "</style>\n",
              "<table border=\"1\" class=\"dataframe\">\n",
              "  <thead>\n",
              "    <tr style=\"text-align: right;\">\n",
              "      <th></th>\n",
              "      <th>userid</th>\n",
              "      <th>sessionid</th>\n",
              "      <th>channel</th>\n",
              "      <th>ts</th>\n",
              "    </tr>\n",
              "  </thead>\n",
              "  <tbody>\n",
              "    <tr>\n",
              "      <th>101515</th>\n",
              "      <td>45</td>\n",
              "      <td>691f008d42e361433415db5a7773d697</td>\n",
              "      <td>Instagram</td>\n",
              "      <td>2019-11-30 22:54:15</td>\n",
              "    </tr>\n",
              "    <tr>\n",
              "      <th>101516</th>\n",
              "      <td>2181</td>\n",
              "      <td>60d1f51c17418bb12b9bf94d289c7204</td>\n",
              "      <td>Google</td>\n",
              "      <td>2019-11-30 23:25:11</td>\n",
              "    </tr>\n",
              "    <tr>\n",
              "      <th>101517</th>\n",
              "      <td>2337</td>\n",
              "      <td>9cfaefd1e81f637fad6330ff16eb1f39</td>\n",
              "      <td>Organic</td>\n",
              "      <td>2019-11-30 23:46:39</td>\n",
              "    </tr>\n",
              "    <tr>\n",
              "      <th>101518</th>\n",
              "      <td>1285</td>\n",
              "      <td>f06a4ccd032e58412b6452b2536ecbf2</td>\n",
              "      <td>Youtube</td>\n",
              "      <td>2019-11-29 15:10:30</td>\n",
              "    </tr>\n",
              "    <tr>\n",
              "      <th>101519</th>\n",
              "      <td>2271</td>\n",
              "      <td>f551359ab7f6d759eb1880f554e5e815</td>\n",
              "      <td>Naver</td>\n",
              "      <td>2019-11-29 15:06:44</td>\n",
              "    </tr>\n",
              "  </tbody>\n",
              "</table>\n",
              "</div>"
            ],
            "text/plain": [
              "        userid                         sessionid    channel                  ts\n",
              "101515      45  691f008d42e361433415db5a7773d697  Instagram 2019-11-30 22:54:15\n",
              "101516    2181  60d1f51c17418bb12b9bf94d289c7204     Google 2019-11-30 23:25:11\n",
              "101517    2337  9cfaefd1e81f637fad6330ff16eb1f39    Organic 2019-11-30 23:46:39\n",
              "101518    1285  f06a4ccd032e58412b6452b2536ecbf2    Youtube 2019-11-29 15:10:30\n",
              "101519    2271  f551359ab7f6d759eb1880f554e5e815      Naver 2019-11-29 15:06:44"
            ]
          },
          "metadata": {
            "tags": []
          },
          "execution_count": 7
        }
      ]
    },
    {
      "cell_type": "code",
      "metadata": {
        "id": "IJwMgG9Nw6Ak",
        "colab_type": "code",
        "colab": {
          "base_uri": "https://localhost:8080/",
          "height": 204
        },
        "outputId": "28d46f44-4bbd-40f0-a366-4e5731444ed3"
      },
      "source": [
        "yyyymm = df_merged['ts'].apply(lambda x: x.strftime('%Y%m'))\n",
        "df_merged['yyyymm'] = yyyymm\n",
        "df_merged.head()"
      ],
      "execution_count": 8,
      "outputs": [
        {
          "output_type": "execute_result",
          "data": {
            "text/html": [
              "<div>\n",
              "<style scoped>\n",
              "    .dataframe tbody tr th:only-of-type {\n",
              "        vertical-align: middle;\n",
              "    }\n",
              "\n",
              "    .dataframe tbody tr th {\n",
              "        vertical-align: top;\n",
              "    }\n",
              "\n",
              "    .dataframe thead th {\n",
              "        text-align: right;\n",
              "    }\n",
              "</style>\n",
              "<table border=\"1\" class=\"dataframe\">\n",
              "  <thead>\n",
              "    <tr style=\"text-align: right;\">\n",
              "      <th></th>\n",
              "      <th>userid</th>\n",
              "      <th>sessionid</th>\n",
              "      <th>channel</th>\n",
              "      <th>ts</th>\n",
              "      <th>yyyymm</th>\n",
              "    </tr>\n",
              "  </thead>\n",
              "  <tbody>\n",
              "    <tr>\n",
              "      <th>0</th>\n",
              "      <td>779</td>\n",
              "      <td>7cdace91c487558e27ce54df7cdb299c</td>\n",
              "      <td>Instagram</td>\n",
              "      <td>2019-05-01 00:13:11.783</td>\n",
              "      <td>201905</td>\n",
              "    </tr>\n",
              "    <tr>\n",
              "      <th>1</th>\n",
              "      <td>230</td>\n",
              "      <td>94f192dee566b018e0acf31e1f99a2d9</td>\n",
              "      <td>Naver</td>\n",
              "      <td>2019-05-01 00:49:46.073</td>\n",
              "      <td>201905</td>\n",
              "    </tr>\n",
              "    <tr>\n",
              "      <th>2</th>\n",
              "      <td>369</td>\n",
              "      <td>7ed2d3454c5eea71148b11d0c25104ff</td>\n",
              "      <td>Youtube</td>\n",
              "      <td>2019-05-01 10:18:43.210</td>\n",
              "      <td>201905</td>\n",
              "    </tr>\n",
              "    <tr>\n",
              "      <th>3</th>\n",
              "      <td>248</td>\n",
              "      <td>f1daf122cde863010844459363cd31db</td>\n",
              "      <td>Naver</td>\n",
              "      <td>2019-05-01 13:10:56.413</td>\n",
              "      <td>201905</td>\n",
              "    </tr>\n",
              "    <tr>\n",
              "      <th>4</th>\n",
              "      <td>676</td>\n",
              "      <td>fd0efcca272f704a760c3b61dcc70fd0</td>\n",
              "      <td>Instagram</td>\n",
              "      <td>2019-05-01 13:45:19.793</td>\n",
              "      <td>201905</td>\n",
              "    </tr>\n",
              "  </tbody>\n",
              "</table>\n",
              "</div>"
            ],
            "text/plain": [
              "   userid                         sessionid  ...                      ts  yyyymm\n",
              "0     779  7cdace91c487558e27ce54df7cdb299c  ... 2019-05-01 00:13:11.783  201905\n",
              "1     230  94f192dee566b018e0acf31e1f99a2d9  ... 2019-05-01 00:49:46.073  201905\n",
              "2     369  7ed2d3454c5eea71148b11d0c25104ff  ... 2019-05-01 10:18:43.210  201905\n",
              "3     248  f1daf122cde863010844459363cd31db  ... 2019-05-01 13:10:56.413  201905\n",
              "4     676  fd0efcca272f704a760c3b61dcc70fd0  ... 2019-05-01 13:45:19.793  201905\n",
              "\n",
              "[5 rows x 5 columns]"
            ]
          },
          "metadata": {
            "tags": []
          },
          "execution_count": 8
        }
      ]
    },
    {
      "cell_type": "code",
      "metadata": {
        "id": "6ocugYgRyxLW",
        "colab_type": "code",
        "colab": {
          "base_uri": "https://localhost:8080/",
          "height": 51
        },
        "outputId": "d44bbfa8-51a4-4676-d864-7a2265f6b78b"
      },
      "source": [
        "yyyymm.unique()"
      ],
      "execution_count": 9,
      "outputs": [
        {
          "output_type": "execute_result",
          "data": {
            "text/plain": [
              "array(['201905', '201906', '201907', '201908', '201909', '201910',\n",
              "       '201911'], dtype=object)"
            ]
          },
          "metadata": {
            "tags": []
          },
          "execution_count": 9
        }
      ]
    },
    {
      "cell_type": "code",
      "metadata": {
        "id": "okW6B-Hxzgsc",
        "colab_type": "code",
        "colab": {
          "base_uri": "https://localhost:8080/",
          "height": 136
        },
        "outputId": "0cbd5e28-8ec3-463d-94e4-89c8e3027a00"
      },
      "source": [
        "mau_yyyymm = {}\n",
        "\n",
        "for yyyymm in yyyymm.unique():\n",
        "    on_yyyymm = (df_merged['yyyymm'] == yyyymm)\n",
        "    num_users = len(df_merged[on_yyyymm]['userid'].unique())\n",
        "    mau_yyyymm[yyyymm] = num_users\n",
        "\n",
        "mau_yyyymm"
      ],
      "execution_count": 10,
      "outputs": [
        {
          "output_type": "execute_result",
          "data": {
            "text/plain": [
              "{'201905': 281,\n",
              " '201906': 459,\n",
              " '201907': 623,\n",
              " '201908': 662,\n",
              " '201909': 639,\n",
              " '201910': 763,\n",
              " '201911': 721}"
            ]
          },
          "metadata": {
            "tags": []
          },
          "execution_count": 10
        }
      ]
    },
    {
      "cell_type": "code",
      "metadata": {
        "id": "307FfoSa1LNT",
        "colab_type": "code",
        "colab": {}
      },
      "source": [
        "conn.close()"
      ],
      "execution_count": 11,
      "outputs": []
    }
  ]
}