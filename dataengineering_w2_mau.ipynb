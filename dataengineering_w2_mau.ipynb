{
  "nbformat": 4,
  "nbformat_minor": 0,
  "metadata": {
    "colab": {
      "name": "dataengineering_w2_mau.ipynb",
      "provenance": [],
      "collapsed_sections": [],
      "authorship_tag": "ABX9TyN+z0VbKJj2d3TdVLfoE3Ex",
      "include_colab_link": true
    },
    "kernelspec": {
      "name": "python3",
      "display_name": "Python 3"
    }
  },
  "cells": [
    {
      "cell_type": "markdown",
      "metadata": {
        "id": "view-in-github",
        "colab_type": "text"
      },
      "source": [
        "<a href=\"https://colab.research.google.com/github/degru82/programmers-de/blob/master/dataengineering_w2_mau.ipynb\" target=\"_parent\"><img src=\"https://colab.research.google.com/assets/colab-badge.svg\" alt=\"Open In Colab\"/></a>"
      ]
    },
    {
      "cell_type": "markdown",
      "metadata": {
        "id": "y-LkGhRPe7Im",
        "colab_type": "text"
      },
      "source": [
        "# 프로그래머스 데이터엔지니어링 2주차\n",
        "\n",
        "1. db-conn 함수의 작성\n",
        "1. MAU 계산을 SQL을 사용해서\n",
        "1. MAU 계산을 Pandas를 사용해서\n",
        "\n",
        "----\n",
        "## 1. 먼저 db-conn 함수를 작성한다"
      ]
    },
    {
      "cell_type": "code",
      "metadata": {
        "id": "fSrbFDEje_Hk",
        "colab_type": "code",
        "colab": {
          "base_uri": "https://localhost:8080/",
          "height": 73
        },
        "outputId": "10e91d42-24cb-40a1-962f-ae88a0b9dd21"
      },
      "source": [
        "import psycopg2\n",
        "\n",
        "def connect_to_redshift(\n",
        "    user: str, pwd: str,\n",
        "    host: str=\"grepp-data.cduaw970ssvt.ap-northeast-2.redshift.amazonaws.com\",\n",
        "    port: int=5439, dbname: str='dev',\n",
        ")->tuple:\n",
        "    \"\"\"\n",
        "    레드시프트 데이터베이스에 연결하고 정보를 리턴합니다\n",
        "\n",
        "    returns (connection, cursor)\n",
        "\n",
        "    inputs\n",
        "    - user: username\n",
        "    - pwd: password\n",
        "    - host: redshift url (default: grepp-data.blahblah)\n",
        "    - port: port number (default: 5439)\n",
        "    - dbname: database name (default: dev)\n",
        "    \"\"\"\n",
        "\n",
        "    info = \\\n",
        "        f'dbname={dbname} user={user} host={host} password={pwd} port={port}'\n",
        "    conn = psycopg2.connect(info)\n",
        "\n",
        "    return conn, conn.cursor()\n",
        "\n",
        "\n",
        "connect_to_redshift?"
      ],
      "execution_count": 1,
      "outputs": [
        {
          "output_type": "stream",
          "text": [
            "/usr/local/lib/python3.6/dist-packages/psycopg2/__init__.py:144: UserWarning: The psycopg2 wheel package will be renamed from release 2.8; in order to keep installing from binary please use \"pip install psycopg2-binary\" instead. For details see: <http://initd.org/psycopg/docs/install.html#binary-install-from-pypi>.\n",
            "  \"\"\")\n"
          ],
          "name": "stderr"
        }
      ]
    },
    {
      "cell_type": "code",
      "metadata": {
        "id": "QZ62yPu4iu0V",
        "colab_type": "code",
        "colab": {}
      },
      "source": [
        "# 실행환경이 콘솔이었다면, 환경변수에 지정했겠지만,\n",
        "# 주피터 노트북에서 실행할 예정이므로 ID/PWD를 입력받습니다\n",
        "\n",
        "user = input('Type Username: ')\n",
        "pwd = input('Type Password: ')\n",
        "\n",
        "conn, cursor = connect_to_redshift(user, pwd)\n",
        "conn, cursor"
      ],
      "execution_count": null,
      "outputs": []
    },
    {
      "cell_type": "markdown",
      "metadata": {
        "id": "YdMsljylsx7a",
        "colab_type": "text"
      },
      "source": [
        "----\n",
        "## 2. MAU 계산을 SQL을 사용해서"
      ]
    },
    {
      "cell_type": "code",
      "metadata": {
        "id": "zr4z_L5TjN0x",
        "colab_type": "code",
        "colab": {}
      },
      "source": [
        "query = '''\n",
        "SELECT \n",
        "    COUNT(DISTINCT USC.userid)\n",
        "    , EXTRACT(YEAR FROM ST.ts) AS YYYY\n",
        "    , EXTRACT(MONTH FROM ST.ts) AS MM\n",
        "FROM raw_data.user_session_channel USC\n",
        "\n",
        "JOIN raw_data.session_timestamp ST\n",
        "ON USC.sessionid=ST.sessionid\n",
        "\n",
        "GROUP BY 2, 3\n",
        "ORDER BY 2, 3\n",
        "'''\n",
        "\n",
        "cursor.execute(query)\n",
        "result = cursor.fetchall()"
      ],
      "execution_count": 3,
      "outputs": []
    },
    {
      "cell_type": "code",
      "metadata": {
        "id": "6M4iYAQHkXzA",
        "colab_type": "code",
        "colab": {
          "base_uri": "https://localhost:8080/",
          "height": 143
        },
        "outputId": "44d67b5b-426a-4504-e327-edb073cd1223"
      },
      "source": [
        "for num_users, year, month in result:\n",
        "\n",
        "    print(f'{num_users} MAUs on {year}-{month:02}')"
      ],
      "execution_count": 4,
      "outputs": [
        {
          "output_type": "stream",
          "text": [
            "281 MAUs on 2019-05\n",
            "459 MAUs on 2019-06\n",
            "623 MAUs on 2019-07\n",
            "662 MAUs on 2019-08\n",
            "639 MAUs on 2019-09\n",
            "763 MAUs on 2019-10\n",
            "721 MAUs on 2019-11\n"
          ],
          "name": "stdout"
        }
      ]
    },
    {
      "cell_type": "markdown",
      "metadata": {
        "id": "j7r9Gyr4sEd-",
        "colab_type": "text"
      },
      "source": [
        "----\n",
        "## 3. MAU 계산을 Pandas를 사용해서\n",
        "- 두 개의 테이블을 읽어와서\n",
        "- 합쳐서 하나의 테이블을 만들고 (join)\n",
        "- 연도와 월 정보를 추출해서 새로운 컬럼을 만든 뒤,\n",
        "- 해당 연월에 유니크한 사용자 아이디 개수를 구한다"
      ]
    },
    {
      "cell_type": "code",
      "metadata": {
        "id": "OKkP_Q6gsjxW",
        "colab_type": "code",
        "colab": {
          "base_uri": "https://localhost:8080/",
          "height": 204
        },
        "outputId": "ae0a2e83-8eed-4131-c3f5-2286ea9c57ca"
      },
      "source": [
        "import pandas.io.sql as sqlio\n",
        "\n",
        "query = \"select * from raw_data.user_session_channel\"\n",
        "df_usc = sqlio.read_sql(query, conn)\n",
        "df_usc.head()\n",
        "\n"
      ],
      "execution_count": 5,
      "outputs": [
        {
          "output_type": "execute_result",
          "data": {
            "text/html": [
              "<div>\n",
              "<style scoped>\n",
              "    .dataframe tbody tr th:only-of-type {\n",
              "        vertical-align: middle;\n",
              "    }\n",
              "\n",
              "    .dataframe tbody tr th {\n",
              "        vertical-align: top;\n",
              "    }\n",
              "\n",
              "    .dataframe thead th {\n",
              "        text-align: right;\n",
              "    }\n",
              "</style>\n",
              "<table border=\"1\" class=\"dataframe\">\n",
              "  <thead>\n",
              "    <tr style=\"text-align: right;\">\n",
              "      <th></th>\n",
              "      <th>userid</th>\n",
              "      <th>sessionid</th>\n",
              "      <th>channel</th>\n",
              "    </tr>\n",
              "  </thead>\n",
              "  <tbody>\n",
              "    <tr>\n",
              "      <th>0</th>\n",
              "      <td>184</td>\n",
              "      <td>c41dd99a69df04044aa4e33ece9c9249</td>\n",
              "      <td>Naver</td>\n",
              "    </tr>\n",
              "    <tr>\n",
              "      <th>1</th>\n",
              "      <td>80</td>\n",
              "      <td>fdc0eb412a84fa549afe68373d9087e9</td>\n",
              "      <td>Organic</td>\n",
              "    </tr>\n",
              "    <tr>\n",
              "      <th>2</th>\n",
              "      <td>251</td>\n",
              "      <td>0a54b19a13b6712dc04d1b49215423d8</td>\n",
              "      <td>Facebook</td>\n",
              "    </tr>\n",
              "    <tr>\n",
              "      <th>3</th>\n",
              "      <td>264</td>\n",
              "      <td>a914ecef9c12ffdb9bede64bb703d877</td>\n",
              "      <td>Google</td>\n",
              "    </tr>\n",
              "    <tr>\n",
              "      <th>4</th>\n",
              "      <td>744</td>\n",
              "      <td>05ae14d7ae387b93370d142d82220f1b</td>\n",
              "      <td>Facebook</td>\n",
              "    </tr>\n",
              "  </tbody>\n",
              "</table>\n",
              "</div>"
            ],
            "text/plain": [
              "   userid                         sessionid   channel\n",
              "0     184  c41dd99a69df04044aa4e33ece9c9249     Naver\n",
              "1      80  fdc0eb412a84fa549afe68373d9087e9   Organic\n",
              "2     251  0a54b19a13b6712dc04d1b49215423d8  Facebook\n",
              "3     264  a914ecef9c12ffdb9bede64bb703d877    Google\n",
              "4     744  05ae14d7ae387b93370d142d82220f1b  Facebook"
            ]
          },
          "metadata": {
            "tags": []
          },
          "execution_count": 5
        }
      ]
    },
    {
      "cell_type": "code",
      "metadata": {
        "id": "peFcUDnTtwd0",
        "colab_type": "code",
        "colab": {
          "base_uri": "https://localhost:8080/",
          "height": 204
        },
        "outputId": "91b02e64-e5e6-4379-bcf4-68cd5b56d48b"
      },
      "source": [
        "query = \"select * from raw_data.session_timestamp\"\n",
        "df_st = sqlio.read_sql(query, conn)\n",
        "df_st.head()"
      ],
      "execution_count": 6,
      "outputs": [
        {
          "output_type": "execute_result",
          "data": {
            "text/html": [
              "<div>\n",
              "<style scoped>\n",
              "    .dataframe tbody tr th:only-of-type {\n",
              "        vertical-align: middle;\n",
              "    }\n",
              "\n",
              "    .dataframe tbody tr th {\n",
              "        vertical-align: top;\n",
              "    }\n",
              "\n",
              "    .dataframe thead th {\n",
              "        text-align: right;\n",
              "    }\n",
              "</style>\n",
              "<table border=\"1\" class=\"dataframe\">\n",
              "  <thead>\n",
              "    <tr style=\"text-align: right;\">\n",
              "      <th></th>\n",
              "      <th>sessionid</th>\n",
              "      <th>ts</th>\n",
              "    </tr>\n",
              "  </thead>\n",
              "  <tbody>\n",
              "    <tr>\n",
              "      <th>0</th>\n",
              "      <td>c41dd99a69df04044aa4e33ece9c9249</td>\n",
              "      <td>2019-05-01 00:35:59.897</td>\n",
              "    </tr>\n",
              "    <tr>\n",
              "      <th>1</th>\n",
              "      <td>fdc0eb412a84fa549afe68373d9087e9</td>\n",
              "      <td>2019-05-01 02:53:48.503</td>\n",
              "    </tr>\n",
              "    <tr>\n",
              "      <th>2</th>\n",
              "      <td>0a54b19a13b6712dc04d1b49215423d8</td>\n",
              "      <td>2019-05-01 12:18:26.637</td>\n",
              "    </tr>\n",
              "    <tr>\n",
              "      <th>3</th>\n",
              "      <td>a914ecef9c12ffdb9bede64bb703d877</td>\n",
              "      <td>2019-05-01 13:41:29.267</td>\n",
              "    </tr>\n",
              "    <tr>\n",
              "      <th>4</th>\n",
              "      <td>05ae14d7ae387b93370d142d82220f1b</td>\n",
              "      <td>2019-05-01 14:17:54.083</td>\n",
              "    </tr>\n",
              "  </tbody>\n",
              "</table>\n",
              "</div>"
            ],
            "text/plain": [
              "                          sessionid                      ts\n",
              "0  c41dd99a69df04044aa4e33ece9c9249 2019-05-01 00:35:59.897\n",
              "1  fdc0eb412a84fa549afe68373d9087e9 2019-05-01 02:53:48.503\n",
              "2  0a54b19a13b6712dc04d1b49215423d8 2019-05-01 12:18:26.637\n",
              "3  a914ecef9c12ffdb9bede64bb703d877 2019-05-01 13:41:29.267\n",
              "4  05ae14d7ae387b93370d142d82220f1b 2019-05-01 14:17:54.083"
            ]
          },
          "metadata": {
            "tags": []
          },
          "execution_count": 6
        }
      ]
    },
    {
      "cell_type": "code",
      "metadata": {
        "id": "NOhIWD7KtzkZ",
        "colab_type": "code",
        "colab": {
          "base_uri": "https://localhost:8080/",
          "height": 204
        },
        "outputId": "3c383626-bf65-43f8-cdc2-b6fd51397d5f"
      },
      "source": [
        "import pandas as pd\n",
        "\n",
        "df_merged = pd.merge(df_usc, df_st, how='outer', on='sessionid')\n",
        "df_merged.tail()"
      ],
      "execution_count": 7,
      "outputs": [
        {
          "output_type": "execute_result",
          "data": {
            "text/html": [
              "<div>\n",
              "<style scoped>\n",
              "    .dataframe tbody tr th:only-of-type {\n",
              "        vertical-align: middle;\n",
              "    }\n",
              "\n",
              "    .dataframe tbody tr th {\n",
              "        vertical-align: top;\n",
              "    }\n",
              "\n",
              "    .dataframe thead th {\n",
              "        text-align: right;\n",
              "    }\n",
              "</style>\n",
              "<table border=\"1\" class=\"dataframe\">\n",
              "  <thead>\n",
              "    <tr style=\"text-align: right;\">\n",
              "      <th></th>\n",
              "      <th>userid</th>\n",
              "      <th>sessionid</th>\n",
              "      <th>channel</th>\n",
              "      <th>ts</th>\n",
              "    </tr>\n",
              "  </thead>\n",
              "  <tbody>\n",
              "    <tr>\n",
              "      <th>101515</th>\n",
              "      <td>45</td>\n",
              "      <td>691f008d42e361433415db5a7773d697</td>\n",
              "      <td>Instagram</td>\n",
              "      <td>2019-11-30 22:54:15</td>\n",
              "    </tr>\n",
              "    <tr>\n",
              "      <th>101516</th>\n",
              "      <td>2181</td>\n",
              "      <td>60d1f51c17418bb12b9bf94d289c7204</td>\n",
              "      <td>Google</td>\n",
              "      <td>2019-11-30 23:25:11</td>\n",
              "    </tr>\n",
              "    <tr>\n",
              "      <th>101517</th>\n",
              "      <td>2337</td>\n",
              "      <td>9cfaefd1e81f637fad6330ff16eb1f39</td>\n",
              "      <td>Organic</td>\n",
              "      <td>2019-11-30 23:46:39</td>\n",
              "    </tr>\n",
              "    <tr>\n",
              "      <th>101518</th>\n",
              "      <td>1285</td>\n",
              "      <td>f06a4ccd032e58412b6452b2536ecbf2</td>\n",
              "      <td>Youtube</td>\n",
              "      <td>2019-11-29 15:10:30</td>\n",
              "    </tr>\n",
              "    <tr>\n",
              "      <th>101519</th>\n",
              "      <td>2271</td>\n",
              "      <td>f551359ab7f6d759eb1880f554e5e815</td>\n",
              "      <td>Naver</td>\n",
              "      <td>2019-11-29 15:06:44</td>\n",
              "    </tr>\n",
              "  </tbody>\n",
              "</table>\n",
              "</div>"
            ],
            "text/plain": [
              "        userid                         sessionid    channel                  ts\n",
              "101515      45  691f008d42e361433415db5a7773d697  Instagram 2019-11-30 22:54:15\n",
              "101516    2181  60d1f51c17418bb12b9bf94d289c7204     Google 2019-11-30 23:25:11\n",
              "101517    2337  9cfaefd1e81f637fad6330ff16eb1f39    Organic 2019-11-30 23:46:39\n",
              "101518    1285  f06a4ccd032e58412b6452b2536ecbf2    Youtube 2019-11-29 15:10:30\n",
              "101519    2271  f551359ab7f6d759eb1880f554e5e815      Naver 2019-11-29 15:06:44"
            ]
          },
          "metadata": {
            "tags": []
          },
          "execution_count": 7
        }
      ]
    },
    {
      "cell_type": "code",
      "metadata": {
        "id": "IJwMgG9Nw6Ak",
        "colab_type": "code",
        "colab": {
          "base_uri": "https://localhost:8080/",
          "height": 204
        },
        "outputId": "394ea512-4cae-4dd2-dd9a-599937894d73"
      },
      "source": [
        "yyyymm = df_merged['ts'].apply(lambda x: x.strftime('%Y%m'))\n",
        "df_merged['yyyymm'] = yyyymm\n",
        "df_merged.head()"
      ],
      "execution_count": 8,
      "outputs": [
        {
          "output_type": "execute_result",
          "data": {
            "text/html": [
              "<div>\n",
              "<style scoped>\n",
              "    .dataframe tbody tr th:only-of-type {\n",
              "        vertical-align: middle;\n",
              "    }\n",
              "\n",
              "    .dataframe tbody tr th {\n",
              "        vertical-align: top;\n",
              "    }\n",
              "\n",
              "    .dataframe thead th {\n",
              "        text-align: right;\n",
              "    }\n",
              "</style>\n",
              "<table border=\"1\" class=\"dataframe\">\n",
              "  <thead>\n",
              "    <tr style=\"text-align: right;\">\n",
              "      <th></th>\n",
              "      <th>userid</th>\n",
              "      <th>sessionid</th>\n",
              "      <th>channel</th>\n",
              "      <th>ts</th>\n",
              "      <th>yyyymm</th>\n",
              "    </tr>\n",
              "  </thead>\n",
              "  <tbody>\n",
              "    <tr>\n",
              "      <th>0</th>\n",
              "      <td>184</td>\n",
              "      <td>c41dd99a69df04044aa4e33ece9c9249</td>\n",
              "      <td>Naver</td>\n",
              "      <td>2019-05-01 00:35:59.897</td>\n",
              "      <td>201905</td>\n",
              "    </tr>\n",
              "    <tr>\n",
              "      <th>1</th>\n",
              "      <td>80</td>\n",
              "      <td>fdc0eb412a84fa549afe68373d9087e9</td>\n",
              "      <td>Organic</td>\n",
              "      <td>2019-05-01 02:53:48.503</td>\n",
              "      <td>201905</td>\n",
              "    </tr>\n",
              "    <tr>\n",
              "      <th>2</th>\n",
              "      <td>251</td>\n",
              "      <td>0a54b19a13b6712dc04d1b49215423d8</td>\n",
              "      <td>Facebook</td>\n",
              "      <td>2019-05-01 12:18:26.637</td>\n",
              "      <td>201905</td>\n",
              "    </tr>\n",
              "    <tr>\n",
              "      <th>3</th>\n",
              "      <td>264</td>\n",
              "      <td>a914ecef9c12ffdb9bede64bb703d877</td>\n",
              "      <td>Google</td>\n",
              "      <td>2019-05-01 13:41:29.267</td>\n",
              "      <td>201905</td>\n",
              "    </tr>\n",
              "    <tr>\n",
              "      <th>4</th>\n",
              "      <td>744</td>\n",
              "      <td>05ae14d7ae387b93370d142d82220f1b</td>\n",
              "      <td>Facebook</td>\n",
              "      <td>2019-05-01 14:17:54.083</td>\n",
              "      <td>201905</td>\n",
              "    </tr>\n",
              "  </tbody>\n",
              "</table>\n",
              "</div>"
            ],
            "text/plain": [
              "   userid                         sessionid  ...                      ts  yyyymm\n",
              "0     184  c41dd99a69df04044aa4e33ece9c9249  ... 2019-05-01 00:35:59.897  201905\n",
              "1      80  fdc0eb412a84fa549afe68373d9087e9  ... 2019-05-01 02:53:48.503  201905\n",
              "2     251  0a54b19a13b6712dc04d1b49215423d8  ... 2019-05-01 12:18:26.637  201905\n",
              "3     264  a914ecef9c12ffdb9bede64bb703d877  ... 2019-05-01 13:41:29.267  201905\n",
              "4     744  05ae14d7ae387b93370d142d82220f1b  ... 2019-05-01 14:17:54.083  201905\n",
              "\n",
              "[5 rows x 5 columns]"
            ]
          },
          "metadata": {
            "tags": []
          },
          "execution_count": 8
        }
      ]
    },
    {
      "cell_type": "code",
      "metadata": {
        "id": "6ocugYgRyxLW",
        "colab_type": "code",
        "colab": {
          "base_uri": "https://localhost:8080/",
          "height": 53
        },
        "outputId": "021d3280-92f0-477f-c154-838d0cf4e869"
      },
      "source": [
        "yyyymm.unique()"
      ],
      "execution_count": 9,
      "outputs": [
        {
          "output_type": "execute_result",
          "data": {
            "text/plain": [
              "array(['201905', '201906', '201907', '201908', '201909', '201910',\n",
              "       '201911'], dtype=object)"
            ]
          },
          "metadata": {
            "tags": []
          },
          "execution_count": 9
        }
      ]
    },
    {
      "cell_type": "code",
      "metadata": {
        "id": "okW6B-Hxzgsc",
        "colab_type": "code",
        "colab": {
          "base_uri": "https://localhost:8080/",
          "height": 143
        },
        "outputId": "e2d9dd80-4afd-4db4-a3bd-dcd968aeccec"
      },
      "source": [
        "mau_yyyymm = {}\n",
        "\n",
        "for yyyymm in yyyymm.unique():\n",
        "    on_yyyymm = (df_merged['yyyymm'] == yyyymm)\n",
        "    num_users = len(df_merged[on_yyyymm]['userid'].unique())\n",
        "    mau_yyyymm[yyyymm] = num_users\n",
        "\n",
        "mau_yyyymm"
      ],
      "execution_count": 10,
      "outputs": [
        {
          "output_type": "execute_result",
          "data": {
            "text/plain": [
              "{'201905': 281,\n",
              " '201906': 459,\n",
              " '201907': 623,\n",
              " '201908': 662,\n",
              " '201909': 639,\n",
              " '201910': 763,\n",
              " '201911': 721}"
            ]
          },
          "metadata": {
            "tags": []
          },
          "execution_count": 10
        }
      ]
    },
    {
      "cell_type": "code",
      "metadata": {
        "id": "307FfoSa1LNT",
        "colab_type": "code",
        "colab": {}
      },
      "source": [
        "conn.close()"
      ],
      "execution_count": 11,
      "outputs": []
    }
  ]
}